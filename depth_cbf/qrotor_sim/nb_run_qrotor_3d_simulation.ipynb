{
 "cells": [
  {
   "cell_type": "code",
   "execution_count": null,
   "metadata": {},
   "outputs": [],
   "source": [
    "import CalSim as cs\n",
    "import numpy as np\n",
    "import yaml"
   ]
  },
  {
   "cell_type": "code",
   "execution_count": null,
   "metadata": {},
   "outputs": [],
   "source": [
    "#Before running, change desired config (doorway or intersection) file name to config.yaml\n",
    "with open(\"config.yaml\", 'r') as file:\n",
    "    config = yaml.safe_load(file)"
   ]
  },
  {
   "cell_type": "code",
   "execution_count": null,
   "metadata": {},
   "outputs": [],
   "source": [
    "xD = config['xD']\n",
    "xD1 = config['xD1']"
   ]
  },
  {
   "cell_type": "code",
   "execution_count": null,
   "metadata": {},
   "outputs": [],
   "source": [
    "pos0 = np.array([config['pos0']]).T\n",
    "vel0 = np.zeros((3, 1))\n",
    "omega0 = np.zeros((3, 1))\n",
    "R0 = np.eye(3).reshape((9, 1))\n",
    "x0 = np.vstack((pos0, R0, omega0, vel0))\n",
    "\n",
    "pos1 = np.array([config['pos1']]).T\n",
    "vel1 = np.zeros((3, 1))\n",
    "omega1 = np.zeros((3, 1))\n",
    "R1 = np.eye(3).reshape((9, 1))\n",
    "x1 = np.vstack((pos1, R1, omega1, vel1))"
   ]
  },
  {
   "cell_type": "code",
   "execution_count": null,
   "metadata": {},
   "outputs": [],
   "source": [
    "dynamics = cs.Qrotor3D(x0)\n",
    "dynamics1 = cs.Qrotor3D(x1)"
   ]
  },
  {
   "cell_type": "code",
   "execution_count": null,
   "metadata": {},
   "outputs": [],
   "source": [
    "observerManager = cs.ObserverManager(dynamics)\n",
    "observerManager1 = cs.ObserverManager(dynamics1)"
   ]
  },
  {
   "cell_type": "code",
   "execution_count": null,
   "metadata": {},
   "outputs": [],
   "source": [
    "orig_qObs = np.array(config['orig_qObs']).T\n",
    "orig_rObs = config['orig_rObs']\n",
    "qObs = np.vstack((config['orig_qObs'], config['pos1'])).T\n",
    "qObs1 = np.vstack((config['orig_qObs'], config['pos0'])).T\n",
    "rObs = config['orig_rObs'] + [config['rObs']]\n",
    "rObs1 = config['orig_rObs'] + [config['rObs1']]"
   ]
  },
  {
   "cell_type": "code",
   "execution_count": null,
   "metadata": {},
   "outputs": [],
   "source": [
    "orig_obstacleManager = cs.ObstacleManager(orig_qObs, orig_rObs, NumObs = config['numObs'])\n",
    "obstacleManager = cs.ObstacleManager(qObs, rObs, NumObs = config['numObs'] + 1)\n",
    "obstacleManager1 = cs.ObstacleManager(qObs1, rObs1, NumObs = config['numObs'] + 1)"
   ]
  },
  {
   "cell_type": "code",
   "execution_count": null,
   "metadata": {},
   "outputs": [],
   "source": [
    "depthManager = cs.DepthCamManager(observerManager, obstacleManager, mean = None, sd = None)\n",
    "depthManager1 = cs.DepthCamManager(observerManager1, obstacleManager1, mean = None, sd = None)"
   ]
  },
  {
   "cell_type": "code",
   "execution_count": null,
   "metadata": {},
   "outputs": [],
   "source": [
    "xD = np.vstack((np.array([config['xD']]).T, R0, omega0, vel0))\n",
    "xD1 = np.vstack((np.array([config['xD1']]).T, R1, omega1, vel1))"
   ]
  },
  {
   "cell_type": "code",
   "execution_count": null,
   "metadata": {},
   "outputs": [],
   "source": [
    "trajManager = cs.TrajectoryManager(x0, xD, Ts = 5, N = 1)\n",
    "trajManager1 = cs.TrajectoryManager(x1, xD1, Ts = 5, N = 1)"
   ]
  },
  {
   "cell_type": "code",
   "execution_count": null,
   "metadata": {},
   "outputs": [],
   "source": [
    "controllerManager = cs.ControllerManager(observerManager, cs.QRotorGeometricPD, None, trajManager, depthManager)\n",
    "controllerManager1 = cs.ControllerManager(observerManager1, cs.QRotorGeometricPD, None, trajManager1, depthManager1)"
   ]
  },
  {
   "cell_type": "code",
   "execution_count": null,
   "metadata": {},
   "outputs": [],
   "source": [
    "if config['liveness']:\n",
    "    env = cs.EnvironmentWithLiveness(dynamics, dynamics1, controllerManager, controllerManager1,\n",
    "                      observerManager, observerManager1, obstacleManager, obstacleManager1, orig_obstacleManager,\n",
    "                      trajManager, trajManager1, depthManager, depthManager1, T = 10)\n",
    "else: \n",
    "    env = cs.Environment(dynamics, dynamics1, controllerManager, controllerManager1,\n",
    "                      observerManager, observerManager1, obstacleManager, obstacleManager1, orig_obstacleManager,\n",
    "                      trajManager, trajManager1, depthManager, depthManager1, T = 10)"
   ]
  },
  {
   "cell_type": "code",
   "execution_count": null,
   "metadata": {},
   "outputs": [],
   "source": [
    "env.run()"
   ]
  }
 ],
 "metadata": {
  "kernelspec": {
   "display_name": "depth_cbf_env",
   "language": "python",
   "name": "python3"
  },
  "language_info": {
   "codemirror_mode": {
    "name": "ipython",
    "version": 3
   },
   "file_extension": ".py",
   "mimetype": "text/x-python",
   "name": "python",
   "nbconvert_exporter": "python",
   "pygments_lexer": "ipython3",
   "version": "3.11.9"
  }
 },
 "nbformat": 4,
 "nbformat_minor": 2
}
